{
 "cells": [
  {
   "cell_type": "code",
   "execution_count": 1,
   "id": "44f6e1ec",
   "metadata": {},
   "outputs": [],
   "source": [
    "import numpy as np\n",
    "import torch\n",
    "import torch.nn.functional as F\n",
    "import matplotlib.pyplot as plt\n",
    "%matplotlib inline"
   ]
  },
  {
   "cell_type": "code",
   "execution_count": 2,
   "id": "c451b66b",
   "metadata": {},
   "outputs": [],
   "source": [
    "with open(\"/home/pdas/workspace/data/names.txt\") as f:\n",
    "    words = f.read().splitlines()"
   ]
  },
  {
   "cell_type": "code",
   "execution_count": 3,
   "id": "c46bace1",
   "metadata": {},
   "outputs": [],
   "source": [
    "chars = sorted(list(set(\"\".join(words))))\n",
    "stoi = {s : i+1 for i,s in enumerate(chars)}\n",
    "stoi['.'] = 0\n",
    "itos = {v:k for k,v in stoi.items()}"
   ]
  },
  {
   "cell_type": "code",
   "execution_count": 7,
   "id": "f6498498",
   "metadata": {},
   "outputs": [
    {
     "name": "stdout",
     "output_type": "stream",
     "text": [
      "yuheng\n",
      "... -----> y\n",
      "..y -----> u\n",
      ".yu -----> h\n",
      "yuh -----> e\n",
      "uhe -----> n\n",
      "hen -----> g\n",
      "eng -----> .\n",
      "diondre\n",
      "... -----> d\n",
      "..d -----> i\n",
      ".di -----> o\n",
      "dio -----> n\n",
      "ion -----> d\n",
      "ond -----> r\n",
      "ndr -----> e\n",
      "dre -----> .\n",
      "xavien\n",
      "... -----> x\n",
      "..x -----> a\n",
      ".xa -----> v\n",
      "xav -----> i\n",
      "avi -----> e\n",
      "vie -----> n\n",
      "ien -----> .\n",
      "jori\n",
      "... -----> j\n",
      "..j -----> o\n",
      ".jo -----> r\n",
      "jor -----> i\n",
      "ori -----> .\n",
      "juanluis\n",
      "... -----> j\n",
      "..j -----> u\n",
      ".ju -----> a\n",
      "jua -----> n\n",
      "uan -----> l\n",
      "anl -----> u\n",
      "nlu -----> i\n",
      "lui -----> s\n",
      "uis -----> .\n"
     ]
    }
   ],
   "source": [
    "block_size = 3\n",
    "X, Y = [], []\n",
    "for w in words[:5]:\n",
    "    print(w)\n",
    "    context = [0] * block_size\n",
    "    for ch in w + '.':\n",
    "        ix1 = stoi[ch]\n",
    "        X.append(context)\n",
    "        Y.append(ix1)\n",
    "        print(\"\".join([itos[i] for i in context]), '----->', itos[ix1])\n",
    "        context = context[1:] + [ix1]"
   ]
  },
  {
   "cell_type": "code",
   "execution_count": 6,
   "id": "e8b7e993",
   "metadata": {},
   "outputs": [],
   "source": [
    "C = torch.randn((27,2))\n",
    "W1 = torch.randn((6, 100))\n",
    "b1 = torch.randn(100)\n",
    "W2 = torch.randn((100,27))\n",
    "b2 = torch.randn(27)"
   ]
  },
  {
   "cell_type": "code",
   "execution_count": 8,
   "id": "546aa0ed",
   "metadata": {},
   "outputs": [],
   "source": [
    "X = torch.tensor(X)\n",
    "Y = torch.tensor(Y)"
   ]
  },
  {
   "cell_type": "code",
   "execution_count": 17,
   "id": "514eb807",
   "metadata": {},
   "outputs": [
    {
     "data": {
      "text/plain": [
       "tensor(17.8558)"
      ]
     },
     "execution_count": 17,
     "metadata": {},
     "output_type": "execute_result"
    }
   ],
   "source": [
    "emb = C[X]\n",
    "h = torch.tanh(emb.view(-1, 6) @ W1 + b1)\n",
    "logits = h @ W2 + b2\n",
    "\n",
    "counts = logits.exp()\n",
    "probs = counts / counts.sum(axis =1, keepdims = True)\n",
    "\n",
    "loss = -probs[torch.arange(0, X.size(0)), Y].log().mean()\n",
    "loss"
   ]
  },
  {
   "cell_type": "code",
   "execution_count": 18,
   "id": "0839537d",
   "metadata": {},
   "outputs": [
    {
     "name": "stdout",
     "output_type": "stream",
     "text": [
      "torch.Size([182580, 3]) torch.Size([182580])\n",
      "torch.Size([22767, 3]) torch.Size([22767])\n",
      "torch.Size([22799, 3]) torch.Size([22799])\n"
     ]
    }
   ],
   "source": [
    "# build the dataset\n",
    "block_size = 3 # context length: how many characters do we take to predict the next one?\n",
    "\n",
    "def build_dataset(words):  \n",
    "  X, Y = [], []\n",
    "  for w in words:\n",
    "\n",
    "    context = [0] * block_size\n",
    "    for ch in w + '.':\n",
    "      ix = stoi[ch]\n",
    "      X.append(context)\n",
    "      Y.append(ix)\n",
    "      context = context[1:] + [ix] # crop and append\n",
    "\n",
    "  X = torch.tensor(X)\n",
    "  Y = torch.tensor(Y)\n",
    "  print(X.shape, Y.shape)\n",
    "  return X, Y\n",
    "\n",
    "import random\n",
    "random.seed(42)\n",
    "random.shuffle(words)\n",
    "n1 = int(0.8*len(words))\n",
    "n2 = int(0.9*len(words))\n",
    "\n",
    "Xtr, Ytr = build_dataset(words[:n1])\n",
    "Xdev, Ydev = build_dataset(words[n1:n2])\n",
    "Xte, Yte = build_dataset(words[n2:])"
   ]
  },
  {
   "cell_type": "code",
   "execution_count": 62,
   "id": "7dcc3e48",
   "metadata": {},
   "outputs": [],
   "source": [
    "g = torch.Generator().manual_seed(2147483647) # for reproducibility\n",
    "C = torch.randn((27, 10), generator=g)\n",
    "W1 = torch.randn((30, 200), generator=g)\n",
    "b1 = torch.randn(200, generator=g)\n",
    "W2 = torch.randn((200, 27), generator=g)\n",
    "b2 = torch.randn(27, generator=g)\n",
    "parameters = [C, W1, b1, W2, b2]"
   ]
  },
  {
   "cell_type": "code",
   "execution_count": 63,
   "id": "53e70039",
   "metadata": {},
   "outputs": [
    {
     "data": {
      "text/plain": [
       "11897"
      ]
     },
     "execution_count": 63,
     "metadata": {},
     "output_type": "execute_result"
    }
   ],
   "source": [
    "sum([p.nelement() for p in parameters]) # num of parameters"
   ]
  },
  {
   "cell_type": "code",
   "execution_count": 64,
   "id": "97af4f19",
   "metadata": {},
   "outputs": [],
   "source": [
    "for p in parameters:\n",
    "    p.requires_grad = True"
   ]
  },
  {
   "cell_type": "code",
   "execution_count": 47,
   "id": "e538b07f",
   "metadata": {},
   "outputs": [],
   "source": [
    "tr_loss = []"
   ]
  },
  {
   "cell_type": "code",
   "execution_count": 48,
   "id": "2be46869",
   "metadata": {},
   "outputs": [
    {
     "name": "stdout",
     "output_type": "stream",
     "text": [
      "Epoch : [1/50] Loss :  20932.6648\n",
      "Epoch : [2/50] Loss :  15799.5622\n",
      "Epoch : [3/50] Loss :  15312.0021\n",
      "Epoch : [4/50] Loss :  15034.8897\n",
      "Epoch : [5/50] Loss :  14853.3158\n",
      "Epoch : [6/50] Loss :  14719.4560\n",
      "Epoch : [7/50] Loss :  14612.8258\n",
      "Epoch : [8/50] Loss :  14524.2992\n",
      "Epoch : [9/50] Loss :  14449.2451\n",
      "Epoch : [10/50] Loss :  14384.9401\n",
      "Epoch : [11/50] Loss :  14328.9657\n",
      "Epoch : [12/50] Loss :  14279.5699\n",
      "Epoch : [13/50] Loss :  14235.6036\n",
      "Epoch : [14/50] Loss :  14196.2579\n",
      "Epoch : [15/50] Loss :  14160.6542\n",
      "Epoch : [16/50] Loss :  14128.0171\n",
      "Epoch : [17/50] Loss :  14097.9751\n",
      "Epoch : [18/50] Loss :  14070.2982\n",
      "Epoch : [19/50] Loss :  14044.6634\n",
      "Epoch : [20/50] Loss :  14020.7815\n",
      "Epoch : [21/50] Loss :  13998.3788\n",
      "Epoch : [22/50] Loss :  13977.2648\n",
      "Epoch : [23/50] Loss :  13957.3542\n",
      "Epoch : [24/50] Loss :  13938.6145\n",
      "Epoch : [25/50] Loss :  13920.9808\n",
      "Epoch : [26/50] Loss :  13904.3408\n",
      "Epoch : [27/50] Loss :  13888.5575\n",
      "Epoch : [28/50] Loss :  13873.4981\n",
      "Epoch : [29/50] Loss :  13859.1430\n",
      "Epoch : [30/50] Loss :  13845.5933\n",
      "Epoch : [31/50] Loss :  13832.7722\n",
      "Epoch : [32/50] Loss :  13820.6247\n",
      "Epoch : [33/50] Loss :  13809.0967\n",
      "Epoch : [34/50] Loss :  13798.1275\n",
      "Epoch : [35/50] Loss :  13787.6661\n",
      "Epoch : [36/50] Loss :  13777.6468\n",
      "Epoch : [37/50] Loss :  13767.9854\n",
      "Epoch : [38/50] Loss :  13758.6453\n",
      "Epoch : [39/50] Loss :  13749.6643\n",
      "Epoch : [40/50] Loss :  13741.0266\n",
      "Epoch : [41/50] Loss :  13732.7136\n",
      "Epoch : [42/50] Loss :  13724.6908\n",
      "Epoch : [43/50] Loss :  13716.9194\n",
      "Epoch : [44/50] Loss :  13709.3585\n",
      "Epoch : [45/50] Loss :  13701.9386\n",
      "Epoch : [46/50] Loss :  13694.7003\n",
      "Epoch : [47/50] Loss :  13687.6142\n",
      "Epoch : [48/50] Loss :  13680.6918\n",
      "Epoch : [49/50] Loss :  13674.0437\n",
      "Epoch : [50/50] Loss :  13667.6224\n",
      "Epoch : [51/50] Loss :  12748.8142\n",
      "Epoch : [52/50] Loss :  12702.0184\n",
      "Epoch : [53/50] Loss :  12692.8658\n",
      "Epoch : [54/50] Loss :  12687.9848\n",
      "Epoch : [55/50] Loss :  12684.6240\n",
      "Epoch : [56/50] Loss :  12681.9959\n",
      "Epoch : [57/50] Loss :  12679.7872\n",
      "Epoch : [58/50] Loss :  12677.8474\n",
      "Epoch : [59/50] Loss :  12676.0944\n",
      "Epoch : [60/50] Loss :  12674.4789\n",
      "Epoch : [61/50] Loss :  12672.9694\n",
      "Epoch : [62/50] Loss :  12671.5442\n",
      "Epoch : [63/50] Loss :  12670.1883\n",
      "Epoch : [64/50] Loss :  12668.8904\n",
      "Epoch : [65/50] Loss :  12667.6418\n",
      "Epoch : [66/50] Loss :  12666.4361\n",
      "Epoch : [67/50] Loss :  12665.2679\n",
      "Epoch : [68/50] Loss :  12664.1327\n",
      "Epoch : [69/50] Loss :  12663.0274\n",
      "Epoch : [70/50] Loss :  12661.9487\n",
      "Epoch : [71/50] Loss :  12660.8944\n",
      "Epoch : [72/50] Loss :  12659.8621\n",
      "Epoch : [73/50] Loss :  12658.8502\n",
      "Epoch : [74/50] Loss :  12657.8570\n",
      "Epoch : [75/50] Loss :  12656.8810\n",
      "Epoch : [76/50] Loss :  12655.9213\n",
      "Epoch : [77/50] Loss :  12654.9765\n",
      "Epoch : [78/50] Loss :  12654.0458\n",
      "Epoch : [79/50] Loss :  12653.1282\n",
      "Epoch : [80/50] Loss :  12652.2231\n",
      "Epoch : [81/50] Loss :  12651.3298\n",
      "Epoch : [82/50] Loss :  12650.4476\n",
      "Epoch : [83/50] Loss :  12649.5759\n",
      "Epoch : [84/50] Loss :  12648.7145\n",
      "Epoch : [85/50] Loss :  12647.8626\n",
      "Epoch : [86/50] Loss :  12647.0199\n",
      "Epoch : [87/50] Loss :  12646.1860\n",
      "Epoch : [88/50] Loss :  12645.3607\n",
      "Epoch : [89/50] Loss :  12644.5434\n",
      "Epoch : [90/50] Loss :  12643.7341\n",
      "Epoch : [91/50] Loss :  12642.9324\n",
      "Epoch : [92/50] Loss :  12642.1379\n",
      "Epoch : [93/50] Loss :  12641.3506\n",
      "Epoch : [94/50] Loss :  12640.5701\n",
      "Epoch : [95/50] Loss :  12639.7963\n",
      "Epoch : [96/50] Loss :  12639.0290\n",
      "Epoch : [97/50] Loss :  12638.2679\n",
      "Epoch : [98/50] Loss :  12637.5132\n",
      "Epoch : [99/50] Loss :  12636.7643\n",
      "Epoch : [100/50] Loss :  12636.0214\n"
     ]
    }
   ],
   "source": [
    "for epoch in range(100):\n",
    "    lb = 0\n",
    "    epoch_loss = 0.0\n",
    "    while lb < Xtr.shape[0]:\n",
    "        ix = torch.arange(lb, lb+30)\n",
    "        emb = C[Xtr[ix]]\n",
    "        h = torch.tanh(emb.view(-1, 30) @ W1 + b1)\n",
    "        logits = h @ W2 + b2\n",
    "        loss = F.cross_entropy(logits, Ytr[ix])\n",
    "        epoch_loss += loss.item()\n",
    "\n",
    "        for p in parameters:\n",
    "            p.grad = None\n",
    "        loss.backward()\n",
    "        \n",
    "        lr = 0.1 if epoch < 50 else 0.01\n",
    "        for p in parameters:\n",
    "            p.data += -lr * p.grad\n",
    "\n",
    "        lb += 30\n",
    "    tr_loss.append(epoch_loss)\n",
    "    print(f\"Epoch : [{epoch+1}/50] Loss : {epoch_loss: .4f}\")"
   ]
  },
  {
   "cell_type": "code",
   "execution_count": 49,
   "id": "50b80dc1",
   "metadata": {},
   "outputs": [
    {
     "data": {
      "text/plain": [
       "[<matplotlib.lines.Line2D at 0x7f52f460ece0>]"
      ]
     },
     "execution_count": 49,
     "metadata": {},
     "output_type": "execute_result"
    },
    {
     "data": {
      "image/png": "[encoded data removed]",
      "text/plain": [
       "<Figure size 640x480 with 1 Axes>"
      ]
     },
     "metadata": {},
     "output_type": "display_data"
    }
   ],
   "source": [
    "stepi = np.arange(100)\n",
    "plt.plot(stepi, tr_loss)"
   ]
  },
  {
   "cell_type": "code",
   "execution_count": 50,
   "id": "0c2c39b0",
   "metadata": {},
   "outputs": [
    {
     "data": {
      "text/plain": [
       "tensor(2.0728, grad_fn=<NllLossBackward0>)"
      ]
     },
     "execution_count": 50,
     "metadata": {},
     "output_type": "execute_result"
    }
   ],
   "source": [
    "emb = C[Xtr] # (182625, 3, 10)\n",
    "h = torch.tanh(emb.view(-1, 30) @ W1 + b1) # (182625, 100)\n",
    "logits = h @ W2 + b2 # (182625, 27)\n",
    "loss = F.cross_entropy(logits, Ytr)\n",
    "loss"
   ]
  },
  {
   "cell_type": "code",
   "execution_count": 51,
   "id": "cdf28abd",
   "metadata": {},
   "outputs": [
    {
     "data": {
      "text/plain": [
       "tensor(2.1324, grad_fn=<NllLossBackward0>)"
      ]
     },
     "execution_count": 51,
     "metadata": {},
     "output_type": "execute_result"
    }
   ],
   "source": [
    "emb = C[Xdev] # (22655, 3, 10)\n",
    "h = torch.tanh(emb.view(-1, 30) @ W1 + b1) # (22655, 100)\n",
    "logits = h @ W2 + b2 # (22655, 27)\n",
    "loss = F.cross_entropy(logits, Ydev)\n",
    "loss"
   ]
  },
  {
   "cell_type": "code",
   "execution_count": 52,
   "id": "1126ef51",
   "metadata": {},
   "outputs": [
    {
     "data": {
      "text/plain": [
       "tensor(2.1498, grad_fn=<NllLossBackward0>)"
      ]
     },
     "execution_count": 52,
     "metadata": {},
     "output_type": "execute_result"
    }
   ],
   "source": [
    "emb = C[Xte] # (22655, 3, 10)\n",
    "h = torch.tanh(emb.view(-1, 30) @ W1 + b1) # (22655, 100)\n",
    "logits = h @ W2 + b2 # (22655, 27)\n",
    "loss = F.cross_entropy(logits, Yte)\n",
    "loss"
   ]
  },
  {
   "cell_type": "code",
   "execution_count": 53,
   "id": "b1ff73cf",
   "metadata": {},
   "outputs": [
    {
     "data": {
      "image/png": "[encoded data removed]",
      "text/plain": [
       "<Figure size 800x800 with 1 Axes>"
      ]
     },
     "metadata": {},
     "output_type": "display_data"
    }
   ],
   "source": [
    "# visualize dimensions 0 and 1 of the embedding matrix C for all characters\n",
    "plt.figure(figsize=(8,8))\n",
    "plt.scatter(C[:,0].data, C[:,1].data, s=200)\n",
    "for i in range(C.shape[0]):\n",
    "    plt.text(C[i,0].item(), C[i,1].item(), itos[i], ha=\"center\", va=\"center\", color='white')\n",
    "plt.grid('minor')"
   ]
  },
  {
   "cell_type": "code",
   "execution_count": 54,
   "id": "a950daf7",
   "metadata": {},
   "outputs": [
    {
     "name": "stdout",
     "output_type": "stream",
     "text": [
      "celia\n",
      "moulius\n",
      "ilah\n",
      "tyha\n",
      "malimitta\n",
      "nolandrika\n",
      "aa\n",
      "samiyah\n",
      "javariio\n",
      "amiiz\n",
      "amelah\n",
      "jacobeda\n",
      "kaley\n",
      "masidgu\n",
      "akavion\n",
      "ratls\n",
      "malynn\n",
      "avtahlas\n",
      "kashra\n",
      "antil\n"
     ]
    }
   ],
   "source": [
    "# sample from the model\n",
    "g = torch.Generator().manual_seed(2147483647)\n",
    "\n",
    "for _ in range(20):\n",
    "    \n",
    "    out = []\n",
    "    context = [0] * block_size # initialize with all ...\n",
    "    while True:\n",
    "      emb = C[torch.tensor([context])] # (1,block_size,d)\n",
    "      h = torch.tanh(emb.view(1, -1) @ W1 + b1)\n",
    "      logits = h @ W2 + b2\n",
    "      probs = F.softmax(logits, dim=1)\n",
    "      ix = torch.multinomial(probs, num_samples=1, generator=g).item()\n",
    "      context = context[1:] + [ix]\n",
    "      if ix == 0:\n",
    "        break\n",
    "      out.append(ix)\n",
    "    print(''.join(itos[i] for i in out))"
   ]
  },
  {
   "cell_type": "code",
   "execution_count": 56,
   "id": "7b710802",
   "metadata": {},
   "outputs": [],
   "source": [
    "# lr search\n",
    "lrs = torch.linspace(-3, 0, 1000)\n",
    "lre = 10**lrs"
   ]
  },
  {
   "cell_type": "code",
   "execution_count": 65,
   "id": "52cbc856",
   "metadata": {},
   "outputs": [],
   "source": [
    "stepi = []\n",
    "lri = []\n",
    "lossi = []\n",
    "\n",
    "for i in range(1000):\n",
    "  \n",
    "  # minibatch construct\n",
    "  ix = torch.randint(0, Xtr.shape[0], (32,))\n",
    "  \n",
    "  # forward pass\n",
    "  emb = C[Xtr[ix]] # (32, 3, 10)\n",
    "  h = torch.tanh(emb.view(-1, 30) @ W1 + b1) # (32, 200)\n",
    "  logits = h @ W2 + b2 # (32, 27)\n",
    "  loss = F.cross_entropy(logits, Ytr[ix])\n",
    "  #print(loss.item())\n",
    "  \n",
    "  # backward pass\n",
    "  for p in parameters:\n",
    "    p.grad = None\n",
    "  loss.backward()\n",
    "  \n",
    "  # update\n",
    "  lr = lre[i]\n",
    "#   lr = 0.1 if i < 100000 else 0.01\n",
    "  for p in parameters:\n",
    "    p.data += -lr * p.grad\n",
    "\n",
    "  # track stats\n",
    "  lri.append(lre[i])\n",
    "  stepi.append(i)\n",
    "  lossi.append(loss.log10().item())"
   ]
  },
  {
   "cell_type": "code",
   "execution_count": 67,
   "id": "e65a9e6e",
   "metadata": {},
   "outputs": [
    {
     "data": {
      "image/png": "[encoded data removed]",
      "text/plain": [
       "<Figure size 640x480 with 1 Axes>"
      ]
     },
     "metadata": {},
     "output_type": "display_data"
    }
   ],
   "source": [
    "# The right choice for lr lies in the valey\n",
    "plt.plot(lri, lossi)\n",
    "plt.xlabel(\"lr\")\n",
    "plt.ylabel(\"loss\")\n",
    "plt.show()"
   ]
  },
  {
   "cell_type": "code",
   "execution_count": null,
   "id": "bce69676",
   "metadata": {},
   "outputs": [],
   "source": []
  }
 ],
 "metadata": {
  "kernelspec": {
   "display_name": "Python 3 (ipykernel)",
   "language": "python",
   "name": "python3"
  },
  "language_info": {
   "codemirror_mode": {
    "name": "ipython",
    "version": 3
   },
   "file_extension": ".py",
   "mimetype": "text/x-python",
   "name": "python",
   "nbconvert_exporter": "python",
   "pygments_lexer": "ipython3",
   "version": "3.10.6"
  }
 },
 "nbformat": 4,
 "nbformat_minor": 5
}
